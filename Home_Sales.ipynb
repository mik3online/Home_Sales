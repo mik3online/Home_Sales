{
 "cells": [
  {
   "cell_type": "code",
   "execution_count": 21,
   "metadata": {
    "colab": {
     "base_uri": "https://localhost:8080/"
    },
    "id": "a_KW73O2e3dw",
    "outputId": "fa5fd2b3-e2de-491b-ee1c-405317ba7ebc"
   },
   "outputs": [],
   "source": [
    "# Import findspark and initialize. \n",
    "import findspark\n",
    "findspark.init()"
   ]
  },
  {
   "cell_type": "code",
   "execution_count": 22,
   "metadata": {
    "id": "2XbWNf1Te5fM"
   },
   "outputs": [],
   "source": [
    "# Import packages\n",
    "from pyspark.sql import SparkSession\n",
    "import time\n",
    "\n",
    "# Create a SparkSession\n",
    "spark = SparkSession.builder.appName(\"SparkSQL\").getOrCreate()"
   ]
  },
  {
   "cell_type": "code",
   "execution_count": 41,
   "metadata": {
    "colab": {
     "base_uri": "https://localhost:8080/"
    },
    "id": "wOJqxG_RPSwp",
    "outputId": "7857ef9f-5b04-405d-f5aa-e535dfe7870c"
   },
   "outputs": [],
   "source": [
    "# 1. Read in the AWS S3 bucket into a DataFrame.\n",
    "from pyspark import SparkFiles\n",
    "url = \"https://2u-data-curriculum-team.s3.amazonaws.com/dataviz-classroom/v1.2/22-big-data/home_sales_revised.csv\"\n",
    "\n",
    "## NOTE: unable to load from URL, downloaded CSV file --> loaded CSV in next CELL"
   ]
  },
  {
   "cell_type": "code",
   "execution_count": 24,
   "metadata": {},
   "outputs": [
    {
     "data": {
      "text/html": [
       "<div>\n",
       "<style scoped>\n",
       "    .dataframe tbody tr th:only-of-type {\n",
       "        vertical-align: middle;\n",
       "    }\n",
       "\n",
       "    .dataframe tbody tr th {\n",
       "        vertical-align: top;\n",
       "    }\n",
       "\n",
       "    .dataframe thead th {\n",
       "        text-align: right;\n",
       "    }\n",
       "</style>\n",
       "<table border=\"1\" class=\"dataframe\">\n",
       "  <thead>\n",
       "    <tr style=\"text-align: right;\">\n",
       "      <th></th>\n",
       "      <th>id</th>\n",
       "      <th>date</th>\n",
       "      <th>date_built</th>\n",
       "      <th>price</th>\n",
       "      <th>bedrooms</th>\n",
       "      <th>bathrooms</th>\n",
       "      <th>sqft_living</th>\n",
       "      <th>sqft_lot</th>\n",
       "      <th>floors</th>\n",
       "      <th>waterfront</th>\n",
       "      <th>view</th>\n",
       "    </tr>\n",
       "  </thead>\n",
       "  <tbody>\n",
       "    <tr>\n",
       "      <th>0</th>\n",
       "      <td>f8a53099-ba1c-47d6-9c31-7398aa8f6089</td>\n",
       "      <td>2022-04-08</td>\n",
       "      <td>2016</td>\n",
       "      <td>936923</td>\n",
       "      <td>4</td>\n",
       "      <td>3</td>\n",
       "      <td>3167</td>\n",
       "      <td>11733</td>\n",
       "      <td>2</td>\n",
       "      <td>1</td>\n",
       "      <td>76</td>\n",
       "    </tr>\n",
       "    <tr>\n",
       "      <th>1</th>\n",
       "      <td>7530a2d8-1ae3-4517-9f4a-befe060c4353</td>\n",
       "      <td>2021-06-13</td>\n",
       "      <td>2013</td>\n",
       "      <td>379628</td>\n",
       "      <td>2</td>\n",
       "      <td>2</td>\n",
       "      <td>2235</td>\n",
       "      <td>14384</td>\n",
       "      <td>1</td>\n",
       "      <td>0</td>\n",
       "      <td>23</td>\n",
       "    </tr>\n",
       "    <tr>\n",
       "      <th>2</th>\n",
       "      <td>43de979c-0bf0-4c9f-85ef-96dc27b258d5</td>\n",
       "      <td>2019-04-12</td>\n",
       "      <td>2014</td>\n",
       "      <td>417866</td>\n",
       "      <td>2</td>\n",
       "      <td>2</td>\n",
       "      <td>2127</td>\n",
       "      <td>10575</td>\n",
       "      <td>2</td>\n",
       "      <td>0</td>\n",
       "      <td>0</td>\n",
       "    </tr>\n",
       "    <tr>\n",
       "      <th>3</th>\n",
       "      <td>b672c137-b88c-48bf-9f18-d0a4ac62fb8b</td>\n",
       "      <td>2019-10-16</td>\n",
       "      <td>2016</td>\n",
       "      <td>239895</td>\n",
       "      <td>2</td>\n",
       "      <td>2</td>\n",
       "      <td>1631</td>\n",
       "      <td>11149</td>\n",
       "      <td>2</td>\n",
       "      <td>0</td>\n",
       "      <td>0</td>\n",
       "    </tr>\n",
       "    <tr>\n",
       "      <th>4</th>\n",
       "      <td>e0726d4d-d595-4074-8283-4139a54d0d63</td>\n",
       "      <td>2022-01-08</td>\n",
       "      <td>2017</td>\n",
       "      <td>424418</td>\n",
       "      <td>3</td>\n",
       "      <td>2</td>\n",
       "      <td>2249</td>\n",
       "      <td>13878</td>\n",
       "      <td>2</td>\n",
       "      <td>0</td>\n",
       "      <td>4</td>\n",
       "    </tr>\n",
       "    <tr>\n",
       "      <th>5</th>\n",
       "      <td>5aa00529-0533-46ba-870c-9e881580ef35</td>\n",
       "      <td>2019-01-30</td>\n",
       "      <td>2017</td>\n",
       "      <td>218712</td>\n",
       "      <td>2</td>\n",
       "      <td>3</td>\n",
       "      <td>1965</td>\n",
       "      <td>14375</td>\n",
       "      <td>2</td>\n",
       "      <td>0</td>\n",
       "      <td>7</td>\n",
       "    </tr>\n",
       "    <tr>\n",
       "      <th>6</th>\n",
       "      <td>131492a1-72e2-4a84-bf97-0db14973bfdb</td>\n",
       "      <td>2020-02-08</td>\n",
       "      <td>2017</td>\n",
       "      <td>419199</td>\n",
       "      <td>2</td>\n",
       "      <td>3</td>\n",
       "      <td>2062</td>\n",
       "      <td>8876</td>\n",
       "      <td>2</td>\n",
       "      <td>0</td>\n",
       "      <td>6</td>\n",
       "    </tr>\n",
       "    <tr>\n",
       "      <th>7</th>\n",
       "      <td>8d54a71b-c520-44e5-8ba1-5a84be03ad35</td>\n",
       "      <td>2019-07-21</td>\n",
       "      <td>2010</td>\n",
       "      <td>323956</td>\n",
       "      <td>2</td>\n",
       "      <td>3</td>\n",
       "      <td>1506</td>\n",
       "      <td>11816</td>\n",
       "      <td>1</td>\n",
       "      <td>0</td>\n",
       "      <td>25</td>\n",
       "    </tr>\n",
       "    <tr>\n",
       "      <th>8</th>\n",
       "      <td>e81aacfe-17fe-46b1-a52a-4753d1622b4a</td>\n",
       "      <td>2020-06-16</td>\n",
       "      <td>2016</td>\n",
       "      <td>181925</td>\n",
       "      <td>3</td>\n",
       "      <td>3</td>\n",
       "      <td>2137</td>\n",
       "      <td>11709</td>\n",
       "      <td>2</td>\n",
       "      <td>0</td>\n",
       "      <td>22</td>\n",
       "    </tr>\n",
       "    <tr>\n",
       "      <th>9</th>\n",
       "      <td>2ed8d509-7372-46d5-a9dd-9281a95467d4</td>\n",
       "      <td>2021-08-06</td>\n",
       "      <td>2015</td>\n",
       "      <td>258710</td>\n",
       "      <td>3</td>\n",
       "      <td>3</td>\n",
       "      <td>1918</td>\n",
       "      <td>9666</td>\n",
       "      <td>1</td>\n",
       "      <td>0</td>\n",
       "      <td>25</td>\n",
       "    </tr>\n",
       "  </tbody>\n",
       "</table>\n",
       "</div>"
      ],
      "text/plain": [
       "                                     id        date  date_built   price  \\\n",
       "0  f8a53099-ba1c-47d6-9c31-7398aa8f6089  2022-04-08        2016  936923   \n",
       "1  7530a2d8-1ae3-4517-9f4a-befe060c4353  2021-06-13        2013  379628   \n",
       "2  43de979c-0bf0-4c9f-85ef-96dc27b258d5  2019-04-12        2014  417866   \n",
       "3  b672c137-b88c-48bf-9f18-d0a4ac62fb8b  2019-10-16        2016  239895   \n",
       "4  e0726d4d-d595-4074-8283-4139a54d0d63  2022-01-08        2017  424418   \n",
       "5  5aa00529-0533-46ba-870c-9e881580ef35  2019-01-30        2017  218712   \n",
       "6  131492a1-72e2-4a84-bf97-0db14973bfdb  2020-02-08        2017  419199   \n",
       "7  8d54a71b-c520-44e5-8ba1-5a84be03ad35  2019-07-21        2010  323956   \n",
       "8  e81aacfe-17fe-46b1-a52a-4753d1622b4a  2020-06-16        2016  181925   \n",
       "9  2ed8d509-7372-46d5-a9dd-9281a95467d4  2021-08-06        2015  258710   \n",
       "\n",
       "   bedrooms  bathrooms  sqft_living  sqft_lot  floors  waterfront  view  \n",
       "0         4          3         3167     11733       2           1    76  \n",
       "1         2          2         2235     14384       1           0    23  \n",
       "2         2          2         2127     10575       2           0     0  \n",
       "3         2          2         1631     11149       2           0     0  \n",
       "4         3          2         2249     13878       2           0     4  \n",
       "5         2          3         1965     14375       2           0     7  \n",
       "6         2          3         2062      8876       2           0     6  \n",
       "7         2          3         1506     11816       1           0    25  \n",
       "8         3          3         2137     11709       2           0    22  \n",
       "9         3          3         1918      9666       1           0    25  "
      ]
     },
     "execution_count": 24,
     "metadata": {},
     "output_type": "execute_result"
    }
   ],
   "source": [
    "import pandas as pd\n",
    "\n",
    "# Read the CSV file into a Pandas DataFrame\n",
    "df = pd.read_csv(\"home_sales_revised.csv\")\n",
    "\n",
    "# Display the first 10 rows\n",
    "df.head(10)"
   ]
  },
  {
   "cell_type": "code",
   "execution_count": 29,
   "metadata": {},
   "outputs": [
    {
     "name": "stdout",
     "output_type": "stream",
     "text": [
      "+--------------------+----------+----------+------+--------+---------+-----------+--------+------+----------+----+\n",
      "|                  id|      date|date_built| price|bedrooms|bathrooms|sqft_living|sqft_lot|floors|waterfront|view|\n",
      "+--------------------+----------+----------+------+--------+---------+-----------+--------+------+----------+----+\n",
      "|f8a53099-ba1c-47d...|2022-04-08|      2016|936923|       4|        3|       3167|   11733|     2|         1|  76|\n",
      "|7530a2d8-1ae3-451...|2021-06-13|      2013|379628|       2|        2|       2235|   14384|     1|         0|  23|\n",
      "|43de979c-0bf0-4c9...|2019-04-12|      2014|417866|       2|        2|       2127|   10575|     2|         0|   0|\n",
      "|b672c137-b88c-48b...|2019-10-16|      2016|239895|       2|        2|       1631|   11149|     2|         0|   0|\n",
      "|e0726d4d-d595-407...|2022-01-08|      2017|424418|       3|        2|       2249|   13878|     2|         0|   4|\n",
      "|5aa00529-0533-46b...|2019-01-30|      2017|218712|       2|        3|       1965|   14375|     2|         0|   7|\n",
      "|131492a1-72e2-4a8...|2020-02-08|      2017|419199|       2|        3|       2062|    8876|     2|         0|   6|\n",
      "|8d54a71b-c520-44e...|2019-07-21|      2010|323956|       2|        3|       1506|   11816|     1|         0|  25|\n",
      "|e81aacfe-17fe-46b...|2020-06-16|      2016|181925|       3|        3|       2137|   11709|     2|         0|  22|\n",
      "|2ed8d509-7372-46d...|2021-08-06|      2015|258710|       3|        3|       1918|    9666|     1|         0|  25|\n",
      "+--------------------+----------+----------+------+--------+---------+-----------+--------+------+----------+----+\n",
      "only showing top 10 rows\n",
      "\n"
     ]
    }
   ],
   "source": [
    "# Read the CSV file into a Spark DataFrame\n",
    "spark_df = spark.read.csv(\"home_sales_revised.csv\", header=True, inferSchema=True)\n",
    "\n",
    "# Create a temporary view for the Spark DataFrame\n",
    "spark_df.createOrReplaceTempView(\"home_sales\")\n",
    "\n",
    "# Show the first 10 rows of the Spark DataFrame\n",
    "spark_df.show(10)"
   ]
  },
  {
   "cell_type": "code",
   "execution_count": 31,
   "metadata": {},
   "outputs": [
    {
     "name": "stdout",
     "output_type": "stream",
     "text": [
      "+----------+--------+---------+\n",
      "|date_built|bedrooms|avg_price|\n",
      "+----------+--------+---------+\n",
      "|      2010|       4|296800.75|\n",
      "|      2011|       4| 302141.9|\n",
      "|      2012|       4|298233.42|\n",
      "|      2013|       4|299999.39|\n",
      "|      2014|       4|299073.89|\n",
      "|      2015|       4|307908.86|\n",
      "|      2016|       4|296050.24|\n",
      "|      2017|       4|296576.69|\n",
      "+----------+--------+---------+\n",
      "\n"
     ]
    }
   ],
   "source": [
    "# 3. What is the average price for a four bedroom house sold in each year rounded to two decimal places?\n",
    "result = spark.sql(\"\"\"\n",
    "    SELECT date_built, bedrooms, ROUND(AVG(price), 2) AS avg_price\n",
    "    FROM home_sales\n",
    "    WHERE bedrooms = 4\n",
    "    GROUP BY date_built, bedrooms\n",
    "    ORDER BY date_built\n",
    "\"\"\")\n",
    "\n",
    "result.show()"
   ]
  },
  {
   "cell_type": "code",
   "execution_count": 33,
   "metadata": {
    "colab": {
     "base_uri": "https://localhost:8080/"
    },
    "id": "l8p_tUS8h8it",
    "outputId": "65806e5f-6262-41c0-ff65-5107464e5c4d"
   },
   "outputs": [
    {
     "name": "stdout",
     "output_type": "stream",
     "text": [
      "+----------+--------+---------+---------+\n",
      "|date_built|bedrooms|bathrooms|avg_price|\n",
      "+----------+--------+---------+---------+\n",
      "|      2010|       3|        3|292859.62|\n",
      "|      2011|       3|        3|291117.47|\n",
      "|      2012|       3|        3|293683.19|\n",
      "|      2013|       3|        3|295962.27|\n",
      "|      2014|       3|        3|290852.27|\n",
      "|      2015|       3|        3| 288770.3|\n",
      "|      2016|       3|        3|290555.07|\n",
      "|      2017|       3|        3|292676.79|\n",
      "+----------+--------+---------+---------+\n",
      "\n"
     ]
    }
   ],
   "source": [
    "# 4. What is the average price of a home for each year the home was built that have 3 bedrooms and 3 bathrooms rounded to two decimal places?\n",
    "result = spark.sql(\"\"\"\n",
    "    SELECT date_built, bedrooms, bathrooms, ROUND(AVG(price), 2) AS avg_price\n",
    "    FROM home_sales\n",
    "    WHERE bedrooms = 3 AND bathrooms = 3\n",
    "    GROUP BY date_built, bedrooms, bathrooms\n",
    "    ORDER BY date_built\n",
    "    \"\"\")\n",
    "\n",
    "result.show()"
   ]
  },
  {
   "cell_type": "code",
   "execution_count": 34,
   "metadata": {
    "colab": {
     "base_uri": "https://localhost:8080/"
    },
    "id": "Y-Eytz64liDU",
    "outputId": "17119810-56ad-40c3-de5e-c3db57e43bcc"
   },
   "outputs": [
    {
     "name": "stdout",
     "output_type": "stream",
     "text": [
      "+----------+--------+---------+------+-----------+---------+\n",
      "|date_built|bedrooms|bathrooms|floors|sqft_living|avg_price|\n",
      "+----------+--------+---------+------+-----------+---------+\n",
      "|      2010|       3|        3|     2|       2131| 279680.0|\n",
      "|      2010|       3|        3|     2|       2111| 259382.0|\n",
      "|      2010|       3|        3|     2|       2172| 266280.0|\n",
      "|      2010|       3|        3|     2|       2055| 177217.0|\n",
      "|      2010|       3|        3|     2|       2395| 123326.0|\n",
      "|      2010|       3|        3|     2|       2313| 130941.0|\n",
      "|      2010|       3|        3|     2|       2149| 228717.0|\n",
      "|      2010|       3|        3|     2|       2215| 145507.0|\n",
      "|      2010|       3|        3|     2|       2387| 383197.0|\n",
      "|      2010|       3|        3|     2|       3945| 890532.0|\n",
      "|      2010|       3|        3|     2|       2483| 229909.0|\n",
      "|      2010|       3|        3|     2|       2148|282430.33|\n",
      "|      2010|       3|        3|     2|       2341| 384378.0|\n",
      "|      2010|       3|        3|     2|       2029| 420422.0|\n",
      "|      2010|       3|        3|     2|       2102| 353385.0|\n",
      "|      2010|       3|        3|     2|       2492| 193290.0|\n",
      "|      2010|       3|        3|     2|       2040| 257250.0|\n",
      "|      2010|       3|        3|     2|       2405| 356911.0|\n",
      "|      2010|       3|        3|     2|       2041| 295068.0|\n",
      "|      2010|       3|        3|     2|       2155| 140377.0|\n",
      "+----------+--------+---------+------+-----------+---------+\n",
      "only showing top 20 rows\n",
      "\n"
     ]
    }
   ],
   "source": [
    "#  5. What is the average price of a home for each year built that have 3 bedrooms, 3 bathrooms, with two floors,\n",
    "# and are greater than or equal to 2,000 square feet rounded to two decimal places?\n",
    "result = spark.sql(\"\"\"\n",
    "    SELECT date_built, bedrooms, bathrooms, floors, sqft_living, ROUND(AVG(price), 2) AS avg_price\n",
    "    FROM home_sales\n",
    "    WHERE bedrooms = 3 AND bathrooms = 3 AND floors = 2 AND sqft_living >= 2000\n",
    "    GROUP BY date_built, bedrooms, bathrooms, floors, sqft_living\n",
    "    ORDER BY date_built\n",
    "\"\"\")\n",
    "\n",
    "result.show()"
   ]
  },
  {
   "cell_type": "code",
   "execution_count": 36,
   "metadata": {},
   "outputs": [
    {
     "name": "stdout",
     "output_type": "stream",
     "text": [
      "+--------+\n",
      "|avg_view|\n",
      "+--------+\n",
      "|   32.26|\n",
      "+--------+\n",
      "\n",
      "--- 0.1634998321533203 seconds ---\n"
     ]
    }
   ],
   "source": [
    "# 6. What is the \"view\" rating for the average price of a home, rounded to two decimal places, where the homes are greater than\n",
    "# or equal to $350,000? Although this is a small dataset, determine the run time for this query.\n",
    "\n",
    "import time\n",
    "\n",
    "# Record the start time\n",
    "start_time = time.time()\n",
    "\n",
    "# Run a SparkSQL query to calculate the \"view\" rating for the average price of homes greater than or equal to $350,000\n",
    "result = spark.sql(\"\"\"\n",
    "    SELECT ROUND(AVG(view), 2) AS avg_view\n",
    "    FROM home_sales\n",
    "    WHERE price >= 350000\n",
    "\"\"\")\n",
    "\n",
    "# Show the result\n",
    "result.show()\n",
    "\n",
    "# Calculate and print the query runtime\n",
    "end_time = time.time()\n",
    "print(\"--- %s seconds ---\" % (end_time - start_time))"
   ]
  },
  {
   "cell_type": "code",
   "execution_count": 37,
   "metadata": {
    "colab": {
     "base_uri": "https://localhost:8080/"
    },
    "id": "KAhk3ZD2tFy8",
    "outputId": "0a8f132d-40a8-4bd4-b5f2-2847e98427f5"
   },
   "outputs": [
    {
     "data": {
      "text/plain": [
       "DataFrame[]"
      ]
     },
     "execution_count": 37,
     "metadata": {},
     "output_type": "execute_result"
    }
   ],
   "source": [
    "# 7. Cache the the temporary table home_sales.\n",
    "spark.sql(\"CACHE TABLE home_sales\")"
   ]
  },
  {
   "cell_type": "code",
   "execution_count": 38,
   "metadata": {
    "colab": {
     "base_uri": "https://localhost:8080/"
    },
    "id": "4opVhbvxtL-i",
    "outputId": "38ec8487-795f-4550-b50c-fcc6f2b7c769"
   },
   "outputs": [
    {
     "data": {
      "text/plain": [
       "True"
      ]
     },
     "execution_count": 38,
     "metadata": {},
     "output_type": "execute_result"
    }
   ],
   "source": [
    "# 8. Check if the table is cached.\n",
    "spark.catalog.isCached('home_sales')"
   ]
  },
  {
   "cell_type": "code",
   "execution_count": 40,
   "metadata": {},
   "outputs": [
    {
     "name": "stdout",
     "output_type": "stream",
     "text": [
      "+----+\n",
      "|view|\n",
      "+----+\n",
      "|  76|\n",
      "|  23|\n",
      "|   0|\n",
      "|   4|\n",
      "|   6|\n",
      "|   7|\n",
      "|  26|\n",
      "|  34|\n",
      "|  23|\n",
      "|  48|\n",
      "|  16|\n",
      "|  10|\n",
      "|  24|\n",
      "|  91|\n",
      "|  49|\n",
      "|  37|\n",
      "|  23|\n",
      "|  25|\n",
      "|  23|\n",
      "|   1|\n",
      "+----+\n",
      "only showing top 20 rows\n",
      "\n",
      "--- 0.06642603874206543 seconds ---\n"
     ]
    }
   ],
   "source": [
    "# 9. Using the cached data, run the query that filters out the view ratings with average price \n",
    "#  greater than or equal to $350,000. Determine the runtime and compare it to uncached runtime.\n",
    "\n",
    "import time\n",
    "\n",
    "# Record the start time\n",
    "start_time = time.time()\n",
    "\n",
    "# Run a SparkSQL query to filter out view ratings with average price greater than or equal to $350,000\n",
    "result = spark.sql(\"\"\"\n",
    "    SELECT view\n",
    "    FROM home_sales\n",
    "    WHERE price >= 350000\n",
    "\"\"\")\n",
    "\n",
    "# Show the result\n",
    "result.show()\n",
    "\n",
    "# Calculate and print the query runtime\n",
    "end_time = time.time()\n",
    "print(\"--- %s seconds ---\" % (end_time - start_time))"
   ]
  },
  {
   "cell_type": "code",
   "execution_count": 42,
   "metadata": {
    "id": "Qm12WN9isHBR"
   },
   "outputs": [
    {
     "name": "stderr",
     "output_type": "stream",
     "text": [
      "                                                                                \r"
     ]
    }
   ],
   "source": [
    "# 10. Partition by the \"date_built\" field on the formatted parquet home sales data \n",
    "# Create Parquet partitioned by 'date_built'\n",
    "spark_df.write.partitionBy(\"date_built\").mode(\"overwrite\").parquet(\"home_sales_partitioned\")"
   ]
  },
  {
   "cell_type": "code",
   "execution_count": 44,
   "metadata": {
    "id": "AZ7BgY61sRqY"
   },
   "outputs": [],
   "source": [
    "# 11. Read the formatted parquet data.\n",
    "parquet_df = spark.read.option(\"basePath\", \"home_sales_partitioned\").parquet(\"home_sales_partitioned\")"
   ]
  },
  {
   "cell_type": "code",
   "execution_count": 45,
   "metadata": {
    "id": "J6MJkHfvVcvh"
   },
   "outputs": [],
   "source": [
    "# 12. Create a temporary table for the parquet data.\n",
    "parquet_df.createOrReplaceTempView(\"home_sales_parquet\")"
   ]
  },
  {
   "cell_type": "code",
   "execution_count": 46,
   "metadata": {},
   "outputs": [
    {
     "name": "stdout",
     "output_type": "stream",
     "text": [
      "+----+\n",
      "|view|\n",
      "+----+\n",
      "|  10|\n",
      "|  24|\n",
      "|   1|\n",
      "|   4|\n",
      "|  39|\n",
      "|  90|\n",
      "|  50|\n",
      "|   6|\n",
      "|   0|\n",
      "|  26|\n",
      "|  17|\n",
      "|  10|\n",
      "|  58|\n",
      "|  82|\n",
      "|   2|\n",
      "|  44|\n",
      "|  45|\n",
      "|  88|\n",
      "|  49|\n",
      "|  56|\n",
      "+----+\n",
      "only showing top 20 rows\n",
      "\n",
      "--- 0.21191191673278809 seconds ---\n"
     ]
    }
   ],
   "source": [
    "# 13. Run the query that filters out the view ratings with average price of greater than or eqaul to $350,000 \n",
    "# with the parquet DataFrame. Round your average to two decimal places. \n",
    "# Determine the runtime and compare it to the cached version. \n",
    "\n",
    "start_time = time.time()\n",
    "\n",
    "parquet_result = spark.sql(\"\"\"\n",
    "    SELECT view\n",
    "    FROM home_sales_parquet\n",
    "    WHERE price >= 350000\n",
    "\"\"\")\n",
    "\n",
    "# Show the result\n",
    "parquet_result.show()\n",
    "\n",
    "end_time = time.time()\n",
    "print(\"--- %s seconds ---\" % (end_time - start_time))"
   ]
  },
  {
   "cell_type": "code",
   "execution_count": 47,
   "metadata": {},
   "outputs": [],
   "source": [
    "# Analysis: SPARK runs faster\n",
    "\n",
    "# RUNTIME SPARK = 0.06642603874206543 seconds \n",
    "# RUNTIME PARQUET = 0.21191191673278809 seconds"
   ]
  },
  {
   "cell_type": "code",
   "execution_count": 48,
   "metadata": {
    "colab": {
     "base_uri": "https://localhost:8080/"
    },
    "id": "hjjYzQGjtbq8",
    "outputId": "830549fd-bb41-451b-9183-5ebf6e3e470b"
   },
   "outputs": [],
   "source": [
    "# 14. Uncache the home_sales temporary table.\n",
    "spark.catalog.uncacheTable(\"home_sales\")"
   ]
  },
  {
   "cell_type": "code",
   "execution_count": 49,
   "metadata": {
    "colab": {
     "base_uri": "https://localhost:8080/"
    },
    "id": "Sy9NBvO7tlmm",
    "outputId": "be73e0e3-5e85-4794-aad9-025fb6fa84a7"
   },
   "outputs": [
    {
     "name": "stdout",
     "output_type": "stream",
     "text": [
      "The home_sales table is no longer cached.\n"
     ]
    }
   ],
   "source": [
    "# 15. Check if the home_sales is no longer cached\n",
    "is_cached = spark.catalog.isCached(\"home_sales\")\n",
    "\n",
    "if is_cached:\n",
    "    print(\"The home_sales table is still cached.\")\n",
    "else:\n",
    "    print(\"The home_sales table is no longer cached.\")"
   ]
  },
  {
   "cell_type": "code",
   "execution_count": null,
   "metadata": {},
   "outputs": [],
   "source": []
  }
 ],
 "metadata": {
  "colab": {
   "collapsed_sections": [],
   "name": "Copy of Home_Sales_solution.ipynb",
   "provenance": []
  },
  "kernelspec": {
   "display_name": "dev",
   "language": "python",
   "name": "dev"
  },
  "language_info": {
   "codemirror_mode": {
    "name": "ipython",
    "version": 3
   },
   "file_extension": ".py",
   "mimetype": "text/x-python",
   "name": "python",
   "nbconvert_exporter": "python",
   "pygments_lexer": "ipython3",
   "version": "3.10.11"
  },
  "nteract": {
   "version": "0.28.0"
  }
 },
 "nbformat": 4,
 "nbformat_minor": 1
}
